{
 "cells": [
  {
   "cell_type": "markdown",
   "metadata": {},
   "source": [
    "# Prediksi Gas CO dan NOx Pada Turbin Gas Pembangkit Listrik\n",
    "\n",
    "## _Random Forest Regression_"
   ]
  },
  {
   "cell_type": "code",
   "execution_count": 1,
   "metadata": {},
   "outputs": [],
   "source": [
    "#Created by Rakha Wisnu Bagaskara\n",
    "#Nuclear and Physics Engineering Department\n",
    "#Gadjah Mada University"
   ]
  },
  {
   "cell_type": "markdown",
   "metadata": {},
   "source": [
    "# _Data Understanding_"
   ]
  },
  {
   "cell_type": "code",
   "execution_count": 2,
   "metadata": {},
   "outputs": [],
   "source": [
    "#import packages\n",
    "\n",
    "import pandas as pd\n",
    "import seaborn as sns\n",
    "import numpy as np\n",
    "import matplotlib.pyplot as plt\n",
    "import math\n",
    "from sklearn.model_selection import train_test_split\n",
    "from sklearn.preprocessing import MinMaxScaler\n",
    "from sklearn.ensemble import RandomForestRegressor\n",
    "from sklearn.model_selection import cross_val_score\n",
    "from sklearn.metrics import mean_absolute_error\n",
    "from sklearn.metrics import mean_squared_error\n",
    "from sklearn.model_selection import RandomizedSearchCV"
   ]
  },
  {
   "cell_type": "code",
   "execution_count": 4,
   "metadata": {
    "scrolled": true
   },
   "outputs": [
    {
     "data": {
      "text/html": [
       "<div>\n",
       "<style scoped>\n",
       "    .dataframe tbody tr th:only-of-type {\n",
       "        vertical-align: middle;\n",
       "    }\n",
       "\n",
       "    .dataframe tbody tr th {\n",
       "        vertical-align: top;\n",
       "    }\n",
       "\n",
       "    .dataframe thead th {\n",
       "        text-align: right;\n",
       "    }\n",
       "</style>\n",
       "<table border=\"1\" class=\"dataframe\">\n",
       "  <thead>\n",
       "    <tr style=\"text-align: right;\">\n",
       "      <th></th>\n",
       "      <th>AT</th>\n",
       "      <th>AP</th>\n",
       "      <th>AH</th>\n",
       "      <th>AFDP</th>\n",
       "      <th>GTEP</th>\n",
       "      <th>TIT</th>\n",
       "      <th>TAT</th>\n",
       "      <th>TEY</th>\n",
       "      <th>CDP</th>\n",
       "      <th>CO</th>\n",
       "      <th>NOX</th>\n",
       "    </tr>\n",
       "  </thead>\n",
       "  <tbody>\n",
       "    <tr>\n",
       "      <th>0</th>\n",
       "      <td>4.5878</td>\n",
       "      <td>1018.7</td>\n",
       "      <td>83.675</td>\n",
       "      <td>3.5758</td>\n",
       "      <td>23.979</td>\n",
       "      <td>1086.2</td>\n",
       "      <td>549.83</td>\n",
       "      <td>134.67</td>\n",
       "      <td>11.898</td>\n",
       "      <td>0.32663</td>\n",
       "      <td>81.952</td>\n",
       "    </tr>\n",
       "    <tr>\n",
       "      <th>1</th>\n",
       "      <td>4.2932</td>\n",
       "      <td>1018.3</td>\n",
       "      <td>84.235</td>\n",
       "      <td>3.5709</td>\n",
       "      <td>23.951</td>\n",
       "      <td>1086.1</td>\n",
       "      <td>550.05</td>\n",
       "      <td>134.67</td>\n",
       "      <td>11.892</td>\n",
       "      <td>0.44784</td>\n",
       "      <td>82.377</td>\n",
       "    </tr>\n",
       "    <tr>\n",
       "      <th>2</th>\n",
       "      <td>3.9045</td>\n",
       "      <td>1018.4</td>\n",
       "      <td>84.858</td>\n",
       "      <td>3.5828</td>\n",
       "      <td>23.990</td>\n",
       "      <td>1086.5</td>\n",
       "      <td>550.19</td>\n",
       "      <td>135.10</td>\n",
       "      <td>12.042</td>\n",
       "      <td>0.45144</td>\n",
       "      <td>83.776</td>\n",
       "    </tr>\n",
       "    <tr>\n",
       "      <th>3</th>\n",
       "      <td>3.7436</td>\n",
       "      <td>1018.3</td>\n",
       "      <td>85.434</td>\n",
       "      <td>3.5808</td>\n",
       "      <td>23.911</td>\n",
       "      <td>1086.5</td>\n",
       "      <td>550.17</td>\n",
       "      <td>135.03</td>\n",
       "      <td>11.990</td>\n",
       "      <td>0.23107</td>\n",
       "      <td>82.505</td>\n",
       "    </tr>\n",
       "    <tr>\n",
       "      <th>4</th>\n",
       "      <td>3.7516</td>\n",
       "      <td>1017.8</td>\n",
       "      <td>85.182</td>\n",
       "      <td>3.5781</td>\n",
       "      <td>23.917</td>\n",
       "      <td>1085.9</td>\n",
       "      <td>550.00</td>\n",
       "      <td>134.67</td>\n",
       "      <td>11.910</td>\n",
       "      <td>0.26747</td>\n",
       "      <td>82.028</td>\n",
       "    </tr>\n",
       "  </tbody>\n",
       "</table>\n",
       "</div>"
      ],
      "text/plain": [
       "       AT      AP      AH    AFDP    GTEP     TIT     TAT     TEY     CDP  \\\n",
       "0  4.5878  1018.7  83.675  3.5758  23.979  1086.2  549.83  134.67  11.898   \n",
       "1  4.2932  1018.3  84.235  3.5709  23.951  1086.1  550.05  134.67  11.892   \n",
       "2  3.9045  1018.4  84.858  3.5828  23.990  1086.5  550.19  135.10  12.042   \n",
       "3  3.7436  1018.3  85.434  3.5808  23.911  1086.5  550.17  135.03  11.990   \n",
       "4  3.7516  1017.8  85.182  3.5781  23.917  1085.9  550.00  134.67  11.910   \n",
       "\n",
       "        CO     NOX  \n",
       "0  0.32663  81.952  \n",
       "1  0.44784  82.377  \n",
       "2  0.45144  83.776  \n",
       "3  0.23107  82.505  \n",
       "4  0.26747  82.028  "
      ]
     },
     "execution_count": 4,
     "metadata": {},
     "output_type": "execute_result"
    }
   ],
   "source": [
    "#open dataset CO and NO gas\n",
    "\n",
    "df = pd.read_excel(\"Dataset_gabungan.xlsx\")\n",
    "df.head()"
   ]
  },
  {
   "cell_type": "code",
   "execution_count": 5,
   "metadata": {},
   "outputs": [
    {
     "name": "stdout",
     "output_type": "stream",
     "text": [
      "(36733, 11)\n"
     ]
    }
   ],
   "source": [
    "# Checking shape of dataset\n",
    "\n",
    "dfshape = df.shape\n",
    "print(dfshape)"
   ]
  },
  {
   "cell_type": "markdown",
   "metadata": {},
   "source": [
    "## _Checking Data Missing Value_"
   ]
  },
  {
   "cell_type": "code",
   "execution_count": 6,
   "metadata": {
    "scrolled": true
   },
   "outputs": [
    {
     "name": "stdout",
     "output_type": "stream",
     "text": [
      "AT      0\n",
      "AP      0\n",
      "AH      0\n",
      "AFDP    0\n",
      "GTEP    0\n",
      "TIT     0\n",
      "TAT     0\n",
      "TEY     0\n",
      "CDP     0\n",
      "CO      0\n",
      "NOX     0\n",
      "dtype: int64\n"
     ]
    }
   ],
   "source": [
    "#checking missing value (NaN)\n",
    "\n",
    "dfisna = df.isna().sum()\n",
    "print(dfisna)"
   ]
  },
  {
   "cell_type": "markdown",
   "metadata": {},
   "source": [
    "## _Checking Data Types_"
   ]
  },
  {
   "cell_type": "code",
   "execution_count": 7,
   "metadata": {
    "scrolled": true
   },
   "outputs": [
    {
     "name": "stdout",
     "output_type": "stream",
     "text": [
      "AT      float64\n",
      "AP      float64\n",
      "AH      float64\n",
      "AFDP    float64\n",
      "GTEP    float64\n",
      "TIT     float64\n",
      "TAT     float64\n",
      "TEY     float64\n",
      "CDP     float64\n",
      "CO      float64\n",
      "NOX     float64\n",
      "dtype: object\n"
     ]
    }
   ],
   "source": [
    "#Checking data types\n",
    "\n",
    "dftypes = df.dtypes\n",
    "print(dftypes)"
   ]
  },
  {
   "cell_type": "markdown",
   "metadata": {},
   "source": [
    "## _Describe Data Statistic_"
   ]
  },
  {
   "cell_type": "code",
   "execution_count": 8,
   "metadata": {},
   "outputs": [
    {
     "data": {
      "text/html": [
       "<div>\n",
       "<style scoped>\n",
       "    .dataframe tbody tr th:only-of-type {\n",
       "        vertical-align: middle;\n",
       "    }\n",
       "\n",
       "    .dataframe tbody tr th {\n",
       "        vertical-align: top;\n",
       "    }\n",
       "\n",
       "    .dataframe thead th {\n",
       "        text-align: right;\n",
       "    }\n",
       "</style>\n",
       "<table border=\"1\" class=\"dataframe\">\n",
       "  <thead>\n",
       "    <tr style=\"text-align: right;\">\n",
       "      <th></th>\n",
       "      <th>AT</th>\n",
       "      <th>AP</th>\n",
       "      <th>AH</th>\n",
       "      <th>AFDP</th>\n",
       "      <th>GTEP</th>\n",
       "      <th>TIT</th>\n",
       "      <th>TAT</th>\n",
       "      <th>TEY</th>\n",
       "      <th>CDP</th>\n",
       "      <th>CO</th>\n",
       "      <th>NOX</th>\n",
       "    </tr>\n",
       "  </thead>\n",
       "  <tbody>\n",
       "    <tr>\n",
       "      <th>count</th>\n",
       "      <td>36733.000000</td>\n",
       "      <td>36733.000000</td>\n",
       "      <td>36733.000000</td>\n",
       "      <td>36733.000000</td>\n",
       "      <td>36733.000000</td>\n",
       "      <td>36733.000000</td>\n",
       "      <td>36733.000000</td>\n",
       "      <td>36733.000000</td>\n",
       "      <td>36733.000000</td>\n",
       "      <td>36733.000000</td>\n",
       "      <td>36733.000000</td>\n",
       "    </tr>\n",
       "    <tr>\n",
       "      <th>mean</th>\n",
       "      <td>17.712726</td>\n",
       "      <td>1013.070165</td>\n",
       "      <td>77.867015</td>\n",
       "      <td>3.925518</td>\n",
       "      <td>25.563801</td>\n",
       "      <td>1081.428084</td>\n",
       "      <td>546.158517</td>\n",
       "      <td>133.506404</td>\n",
       "      <td>12.060525</td>\n",
       "      <td>2.372468</td>\n",
       "      <td>65.293067</td>\n",
       "    </tr>\n",
       "    <tr>\n",
       "      <th>std</th>\n",
       "      <td>7.447451</td>\n",
       "      <td>6.463346</td>\n",
       "      <td>14.461355</td>\n",
       "      <td>0.773936</td>\n",
       "      <td>4.195957</td>\n",
       "      <td>17.536373</td>\n",
       "      <td>6.842360</td>\n",
       "      <td>15.618634</td>\n",
       "      <td>1.088795</td>\n",
       "      <td>2.262672</td>\n",
       "      <td>11.678357</td>\n",
       "    </tr>\n",
       "    <tr>\n",
       "      <th>min</th>\n",
       "      <td>-6.234800</td>\n",
       "      <td>985.850000</td>\n",
       "      <td>24.085000</td>\n",
       "      <td>2.087400</td>\n",
       "      <td>17.698000</td>\n",
       "      <td>1000.800000</td>\n",
       "      <td>511.040000</td>\n",
       "      <td>100.020000</td>\n",
       "      <td>9.851800</td>\n",
       "      <td>0.000388</td>\n",
       "      <td>25.905000</td>\n",
       "    </tr>\n",
       "    <tr>\n",
       "      <th>25%</th>\n",
       "      <td>11.781000</td>\n",
       "      <td>1008.800000</td>\n",
       "      <td>68.188000</td>\n",
       "      <td>3.355600</td>\n",
       "      <td>23.129000</td>\n",
       "      <td>1071.800000</td>\n",
       "      <td>544.720000</td>\n",
       "      <td>124.450000</td>\n",
       "      <td>11.435000</td>\n",
       "      <td>1.182400</td>\n",
       "      <td>57.162000</td>\n",
       "    </tr>\n",
       "    <tr>\n",
       "      <th>50%</th>\n",
       "      <td>17.801000</td>\n",
       "      <td>1012.600000</td>\n",
       "      <td>80.470000</td>\n",
       "      <td>3.937700</td>\n",
       "      <td>25.104000</td>\n",
       "      <td>1085.900000</td>\n",
       "      <td>549.880000</td>\n",
       "      <td>133.730000</td>\n",
       "      <td>11.965000</td>\n",
       "      <td>1.713500</td>\n",
       "      <td>63.849000</td>\n",
       "    </tr>\n",
       "    <tr>\n",
       "      <th>75%</th>\n",
       "      <td>23.665000</td>\n",
       "      <td>1017.000000</td>\n",
       "      <td>89.376000</td>\n",
       "      <td>4.376900</td>\n",
       "      <td>29.061000</td>\n",
       "      <td>1097.000000</td>\n",
       "      <td>550.040000</td>\n",
       "      <td>144.080000</td>\n",
       "      <td>12.855000</td>\n",
       "      <td>2.842900</td>\n",
       "      <td>71.548000</td>\n",
       "    </tr>\n",
       "    <tr>\n",
       "      <th>max</th>\n",
       "      <td>37.103000</td>\n",
       "      <td>1036.600000</td>\n",
       "      <td>100.200000</td>\n",
       "      <td>7.610600</td>\n",
       "      <td>40.716000</td>\n",
       "      <td>1100.900000</td>\n",
       "      <td>550.610000</td>\n",
       "      <td>179.500000</td>\n",
       "      <td>15.159000</td>\n",
       "      <td>44.103000</td>\n",
       "      <td>119.910000</td>\n",
       "    </tr>\n",
       "  </tbody>\n",
       "</table>\n",
       "</div>"
      ],
      "text/plain": [
       "                 AT            AP            AH          AFDP          GTEP  \\\n",
       "count  36733.000000  36733.000000  36733.000000  36733.000000  36733.000000   \n",
       "mean      17.712726   1013.070165     77.867015      3.925518     25.563801   \n",
       "std        7.447451      6.463346     14.461355      0.773936      4.195957   \n",
       "min       -6.234800    985.850000     24.085000      2.087400     17.698000   \n",
       "25%       11.781000   1008.800000     68.188000      3.355600     23.129000   \n",
       "50%       17.801000   1012.600000     80.470000      3.937700     25.104000   \n",
       "75%       23.665000   1017.000000     89.376000      4.376900     29.061000   \n",
       "max       37.103000   1036.600000    100.200000      7.610600     40.716000   \n",
       "\n",
       "                TIT           TAT           TEY           CDP            CO  \\\n",
       "count  36733.000000  36733.000000  36733.000000  36733.000000  36733.000000   \n",
       "mean    1081.428084    546.158517    133.506404     12.060525      2.372468   \n",
       "std       17.536373      6.842360     15.618634      1.088795      2.262672   \n",
       "min     1000.800000    511.040000    100.020000      9.851800      0.000388   \n",
       "25%     1071.800000    544.720000    124.450000     11.435000      1.182400   \n",
       "50%     1085.900000    549.880000    133.730000     11.965000      1.713500   \n",
       "75%     1097.000000    550.040000    144.080000     12.855000      2.842900   \n",
       "max     1100.900000    550.610000    179.500000     15.159000     44.103000   \n",
       "\n",
       "                NOX  \n",
       "count  36733.000000  \n",
       "mean      65.293067  \n",
       "std       11.678357  \n",
       "min       25.905000  \n",
       "25%       57.162000  \n",
       "50%       63.849000  \n",
       "75%       71.548000  \n",
       "max      119.910000  "
      ]
     },
     "execution_count": 8,
     "metadata": {},
     "output_type": "execute_result"
    }
   ],
   "source": [
    "#Checking data description\n",
    "\n",
    "df.describe()"
   ]
  },
  {
   "cell_type": "code",
   "execution_count": 9,
   "metadata": {
    "scrolled": true
   },
   "outputs": [
    {
     "data": {
      "text/html": [
       "<div>\n",
       "<style scoped>\n",
       "    .dataframe tbody tr th:only-of-type {\n",
       "        vertical-align: middle;\n",
       "    }\n",
       "\n",
       "    .dataframe tbody tr th {\n",
       "        vertical-align: top;\n",
       "    }\n",
       "\n",
       "    .dataframe thead th {\n",
       "        text-align: right;\n",
       "    }\n",
       "</style>\n",
       "<table border=\"1\" class=\"dataframe\">\n",
       "  <thead>\n",
       "    <tr style=\"text-align: right;\">\n",
       "      <th></th>\n",
       "      <th>AT</th>\n",
       "      <th>AP</th>\n",
       "      <th>AH</th>\n",
       "      <th>AFDP</th>\n",
       "      <th>GTEP</th>\n",
       "      <th>TIT</th>\n",
       "      <th>TAT</th>\n",
       "      <th>TEY</th>\n",
       "      <th>CDP</th>\n",
       "      <th>CO</th>\n",
       "      <th>NOX</th>\n",
       "    </tr>\n",
       "  </thead>\n",
       "  <tbody>\n",
       "    <tr>\n",
       "      <th>count</th>\n",
       "      <td>36733.000000</td>\n",
       "      <td>36733.000000</td>\n",
       "      <td>36733.000000</td>\n",
       "      <td>36733.000000</td>\n",
       "      <td>36733.000000</td>\n",
       "      <td>36733.000000</td>\n",
       "      <td>36733.000000</td>\n",
       "      <td>36733.000000</td>\n",
       "      <td>36733.000000</td>\n",
       "      <td>36733.000000</td>\n",
       "      <td>36733.000000</td>\n",
       "    </tr>\n",
       "    <tr>\n",
       "      <th>mean</th>\n",
       "      <td>17.712726</td>\n",
       "      <td>1013.070165</td>\n",
       "      <td>77.865589</td>\n",
       "      <td>3.925518</td>\n",
       "      <td>25.563801</td>\n",
       "      <td>1081.428084</td>\n",
       "      <td>546.158517</td>\n",
       "      <td>133.506404</td>\n",
       "      <td>12.060525</td>\n",
       "      <td>2.372468</td>\n",
       "      <td>65.293067</td>\n",
       "    </tr>\n",
       "    <tr>\n",
       "      <th>std</th>\n",
       "      <td>7.447451</td>\n",
       "      <td>6.463346</td>\n",
       "      <td>14.459166</td>\n",
       "      <td>0.773936</td>\n",
       "      <td>4.195957</td>\n",
       "      <td>17.536373</td>\n",
       "      <td>6.842360</td>\n",
       "      <td>15.618634</td>\n",
       "      <td>1.088795</td>\n",
       "      <td>2.262672</td>\n",
       "      <td>11.678357</td>\n",
       "    </tr>\n",
       "    <tr>\n",
       "      <th>min</th>\n",
       "      <td>-6.234800</td>\n",
       "      <td>985.850000</td>\n",
       "      <td>24.085000</td>\n",
       "      <td>2.087400</td>\n",
       "      <td>17.698000</td>\n",
       "      <td>1000.800000</td>\n",
       "      <td>511.040000</td>\n",
       "      <td>100.020000</td>\n",
       "      <td>9.851800</td>\n",
       "      <td>0.000388</td>\n",
       "      <td>25.905000</td>\n",
       "    </tr>\n",
       "    <tr>\n",
       "      <th>25%</th>\n",
       "      <td>11.781000</td>\n",
       "      <td>1008.800000</td>\n",
       "      <td>68.188000</td>\n",
       "      <td>3.355600</td>\n",
       "      <td>23.129000</td>\n",
       "      <td>1071.800000</td>\n",
       "      <td>544.720000</td>\n",
       "      <td>124.450000</td>\n",
       "      <td>11.435000</td>\n",
       "      <td>1.182400</td>\n",
       "      <td>57.162000</td>\n",
       "    </tr>\n",
       "    <tr>\n",
       "      <th>50%</th>\n",
       "      <td>17.801000</td>\n",
       "      <td>1012.600000</td>\n",
       "      <td>80.470000</td>\n",
       "      <td>3.937700</td>\n",
       "      <td>25.104000</td>\n",
       "      <td>1085.900000</td>\n",
       "      <td>549.880000</td>\n",
       "      <td>133.730000</td>\n",
       "      <td>11.965000</td>\n",
       "      <td>1.713500</td>\n",
       "      <td>63.849000</td>\n",
       "    </tr>\n",
       "    <tr>\n",
       "      <th>75%</th>\n",
       "      <td>23.665000</td>\n",
       "      <td>1017.000000</td>\n",
       "      <td>89.376000</td>\n",
       "      <td>4.376900</td>\n",
       "      <td>29.061000</td>\n",
       "      <td>1097.000000</td>\n",
       "      <td>550.040000</td>\n",
       "      <td>144.080000</td>\n",
       "      <td>12.855000</td>\n",
       "      <td>2.842900</td>\n",
       "      <td>71.548000</td>\n",
       "    </tr>\n",
       "    <tr>\n",
       "      <th>max</th>\n",
       "      <td>37.103000</td>\n",
       "      <td>1036.600000</td>\n",
       "      <td>100.000000</td>\n",
       "      <td>7.610600</td>\n",
       "      <td>40.716000</td>\n",
       "      <td>1100.900000</td>\n",
       "      <td>550.610000</td>\n",
       "      <td>179.500000</td>\n",
       "      <td>15.159000</td>\n",
       "      <td>44.103000</td>\n",
       "      <td>119.910000</td>\n",
       "    </tr>\n",
       "  </tbody>\n",
       "</table>\n",
       "</div>"
      ],
      "text/plain": [
       "                 AT            AP            AH          AFDP          GTEP  \\\n",
       "count  36733.000000  36733.000000  36733.000000  36733.000000  36733.000000   \n",
       "mean      17.712726   1013.070165     77.865589      3.925518     25.563801   \n",
       "std        7.447451      6.463346     14.459166      0.773936      4.195957   \n",
       "min       -6.234800    985.850000     24.085000      2.087400     17.698000   \n",
       "25%       11.781000   1008.800000     68.188000      3.355600     23.129000   \n",
       "50%       17.801000   1012.600000     80.470000      3.937700     25.104000   \n",
       "75%       23.665000   1017.000000     89.376000      4.376900     29.061000   \n",
       "max       37.103000   1036.600000    100.000000      7.610600     40.716000   \n",
       "\n",
       "                TIT           TAT           TEY           CDP            CO  \\\n",
       "count  36733.000000  36733.000000  36733.000000  36733.000000  36733.000000   \n",
       "mean    1081.428084    546.158517    133.506404     12.060525      2.372468   \n",
       "std       17.536373      6.842360     15.618634      1.088795      2.262672   \n",
       "min     1000.800000    511.040000    100.020000      9.851800      0.000388   \n",
       "25%     1071.800000    544.720000    124.450000     11.435000      1.182400   \n",
       "50%     1085.900000    549.880000    133.730000     11.965000      1.713500   \n",
       "75%     1097.000000    550.040000    144.080000     12.855000      2.842900   \n",
       "max     1100.900000    550.610000    179.500000     15.159000     44.103000   \n",
       "\n",
       "                NOX  \n",
       "count  36733.000000  \n",
       "mean      65.293067  \n",
       "std       11.678357  \n",
       "min       25.905000  \n",
       "25%       57.162000  \n",
       "50%       63.849000  \n",
       "75%       71.548000  \n",
       "max      119.910000  "
      ]
     },
     "execution_count": 9,
     "metadata": {},
     "output_type": "execute_result"
    }
   ],
   "source": [
    "# Changing AH Value (AH value cannot more than 100)\n",
    "# Error value\n",
    "\n",
    "df.AH[df.AH > 100]=100\n",
    "df.describe()"
   ]
  },
  {
   "cell_type": "markdown",
   "metadata": {},
   "source": [
    "## _Check Data Correlation_"
   ]
  },
  {
   "cell_type": "code",
   "execution_count": 22,
   "metadata": {
    "scrolled": true
   },
   "outputs": [
    {
     "data": {
      "text/html": [
       "<div>\n",
       "<style scoped>\n",
       "    .dataframe tbody tr th:only-of-type {\n",
       "        vertical-align: middle;\n",
       "    }\n",
       "\n",
       "    .dataframe tbody tr th {\n",
       "        vertical-align: top;\n",
       "    }\n",
       "\n",
       "    .dataframe thead th {\n",
       "        text-align: right;\n",
       "    }\n",
       "</style>\n",
       "<table border=\"1\" class=\"dataframe\">\n",
       "  <thead>\n",
       "    <tr style=\"text-align: right;\">\n",
       "      <th></th>\n",
       "      <th>AT</th>\n",
       "      <th>AP</th>\n",
       "      <th>AH</th>\n",
       "      <th>AFDP</th>\n",
       "      <th>GTEP</th>\n",
       "      <th>TIT</th>\n",
       "      <th>TAT</th>\n",
       "      <th>TEY</th>\n",
       "      <th>CDP</th>\n",
       "      <th>CO</th>\n",
       "      <th>NOX</th>\n",
       "    </tr>\n",
       "  </thead>\n",
       "  <tbody>\n",
       "    <tr>\n",
       "      <th>AT</th>\n",
       "      <td>1.000000</td>\n",
       "      <td>-0.406601</td>\n",
       "      <td>-0.476283</td>\n",
       "      <td>0.251974</td>\n",
       "      <td>0.045851</td>\n",
       "      <td>0.183706</td>\n",
       "      <td>0.281869</td>\n",
       "      <td>-0.091152</td>\n",
       "      <td>0.015287</td>\n",
       "      <td>-0.174326</td>\n",
       "      <td>-0.558174</td>\n",
       "    </tr>\n",
       "    <tr>\n",
       "      <th>AP</th>\n",
       "      <td>-0.406601</td>\n",
       "      <td>1.000000</td>\n",
       "      <td>-0.015127</td>\n",
       "      <td>-0.040363</td>\n",
       "      <td>0.057533</td>\n",
       "      <td>-0.005390</td>\n",
       "      <td>-0.225601</td>\n",
       "      <td>0.118224</td>\n",
       "      <td>0.102636</td>\n",
       "      <td>0.067050</td>\n",
       "      <td>0.191938</td>\n",
       "    </tr>\n",
       "    <tr>\n",
       "      <th>AH</th>\n",
       "      <td>-0.476283</td>\n",
       "      <td>-0.015127</td>\n",
       "      <td>1.000000</td>\n",
       "      <td>-0.147862</td>\n",
       "      <td>-0.235164</td>\n",
       "      <td>-0.221822</td>\n",
       "      <td>0.022972</td>\n",
       "      <td>-0.137371</td>\n",
       "      <td>-0.196282</td>\n",
       "      <td>0.106587</td>\n",
       "      <td>0.164577</td>\n",
       "    </tr>\n",
       "    <tr>\n",
       "      <th>AFDP</th>\n",
       "      <td>0.251974</td>\n",
       "      <td>-0.040363</td>\n",
       "      <td>-0.147862</td>\n",
       "      <td>1.000000</td>\n",
       "      <td>0.678485</td>\n",
       "      <td>0.691292</td>\n",
       "      <td>-0.466882</td>\n",
       "      <td>0.665483</td>\n",
       "      <td>0.702568</td>\n",
       "      <td>-0.448425</td>\n",
       "      <td>-0.188247</td>\n",
       "    </tr>\n",
       "    <tr>\n",
       "      <th>GTEP</th>\n",
       "      <td>0.045851</td>\n",
       "      <td>0.057533</td>\n",
       "      <td>-0.235164</td>\n",
       "      <td>0.678485</td>\n",
       "      <td>1.000000</td>\n",
       "      <td>0.874234</td>\n",
       "      <td>-0.699703</td>\n",
       "      <td>0.964127</td>\n",
       "      <td>0.978470</td>\n",
       "      <td>-0.518909</td>\n",
       "      <td>-0.201630</td>\n",
       "    </tr>\n",
       "    <tr>\n",
       "      <th>TIT</th>\n",
       "      <td>0.183706</td>\n",
       "      <td>-0.005390</td>\n",
       "      <td>-0.221822</td>\n",
       "      <td>0.691292</td>\n",
       "      <td>0.874234</td>\n",
       "      <td>1.000000</td>\n",
       "      <td>-0.380862</td>\n",
       "      <td>0.910297</td>\n",
       "      <td>0.908469</td>\n",
       "      <td>-0.706275</td>\n",
       "      <td>-0.213865</td>\n",
       "    </tr>\n",
       "    <tr>\n",
       "      <th>TAT</th>\n",
       "      <td>0.281869</td>\n",
       "      <td>-0.225601</td>\n",
       "      <td>0.022972</td>\n",
       "      <td>-0.466882</td>\n",
       "      <td>-0.699703</td>\n",
       "      <td>-0.380862</td>\n",
       "      <td>1.000000</td>\n",
       "      <td>-0.682396</td>\n",
       "      <td>-0.706438</td>\n",
       "      <td>0.058353</td>\n",
       "      <td>-0.092791</td>\n",
       "    </tr>\n",
       "    <tr>\n",
       "      <th>TEY</th>\n",
       "      <td>-0.091152</td>\n",
       "      <td>0.118224</td>\n",
       "      <td>-0.137371</td>\n",
       "      <td>0.665483</td>\n",
       "      <td>0.964127</td>\n",
       "      <td>0.910297</td>\n",
       "      <td>-0.682396</td>\n",
       "      <td>1.000000</td>\n",
       "      <td>0.988778</td>\n",
       "      <td>-0.569813</td>\n",
       "      <td>-0.116127</td>\n",
       "    </tr>\n",
       "    <tr>\n",
       "      <th>CDP</th>\n",
       "      <td>0.015287</td>\n",
       "      <td>0.102636</td>\n",
       "      <td>-0.196282</td>\n",
       "      <td>0.702568</td>\n",
       "      <td>0.978470</td>\n",
       "      <td>0.908469</td>\n",
       "      <td>-0.706438</td>\n",
       "      <td>0.988778</td>\n",
       "      <td>1.000000</td>\n",
       "      <td>-0.551027</td>\n",
       "      <td>-0.171256</td>\n",
       "    </tr>\n",
       "    <tr>\n",
       "      <th>CO</th>\n",
       "      <td>-0.174326</td>\n",
       "      <td>0.067050</td>\n",
       "      <td>0.106587</td>\n",
       "      <td>-0.448425</td>\n",
       "      <td>-0.518909</td>\n",
       "      <td>-0.706275</td>\n",
       "      <td>0.058353</td>\n",
       "      <td>-0.569813</td>\n",
       "      <td>-0.551027</td>\n",
       "      <td>1.000000</td>\n",
       "      <td>0.340606</td>\n",
       "    </tr>\n",
       "    <tr>\n",
       "      <th>NOX</th>\n",
       "      <td>-0.558174</td>\n",
       "      <td>0.191938</td>\n",
       "      <td>0.164577</td>\n",
       "      <td>-0.188247</td>\n",
       "      <td>-0.201630</td>\n",
       "      <td>-0.213865</td>\n",
       "      <td>-0.092791</td>\n",
       "      <td>-0.116127</td>\n",
       "      <td>-0.171256</td>\n",
       "      <td>0.340606</td>\n",
       "      <td>1.000000</td>\n",
       "    </tr>\n",
       "  </tbody>\n",
       "</table>\n",
       "</div>"
      ],
      "text/plain": [
       "            AT        AP        AH      AFDP      GTEP       TIT       TAT  \\\n",
       "AT    1.000000 -0.406601 -0.476283  0.251974  0.045851  0.183706  0.281869   \n",
       "AP   -0.406601  1.000000 -0.015127 -0.040363  0.057533 -0.005390 -0.225601   \n",
       "AH   -0.476283 -0.015127  1.000000 -0.147862 -0.235164 -0.221822  0.022972   \n",
       "AFDP  0.251974 -0.040363 -0.147862  1.000000  0.678485  0.691292 -0.466882   \n",
       "GTEP  0.045851  0.057533 -0.235164  0.678485  1.000000  0.874234 -0.699703   \n",
       "TIT   0.183706 -0.005390 -0.221822  0.691292  0.874234  1.000000 -0.380862   \n",
       "TAT   0.281869 -0.225601  0.022972 -0.466882 -0.699703 -0.380862  1.000000   \n",
       "TEY  -0.091152  0.118224 -0.137371  0.665483  0.964127  0.910297 -0.682396   \n",
       "CDP   0.015287  0.102636 -0.196282  0.702568  0.978470  0.908469 -0.706438   \n",
       "CO   -0.174326  0.067050  0.106587 -0.448425 -0.518909 -0.706275  0.058353   \n",
       "NOX  -0.558174  0.191938  0.164577 -0.188247 -0.201630 -0.213865 -0.092791   \n",
       "\n",
       "           TEY       CDP        CO       NOX  \n",
       "AT   -0.091152  0.015287 -0.174326 -0.558174  \n",
       "AP    0.118224  0.102636  0.067050  0.191938  \n",
       "AH   -0.137371 -0.196282  0.106587  0.164577  \n",
       "AFDP  0.665483  0.702568 -0.448425 -0.188247  \n",
       "GTEP  0.964127  0.978470 -0.518909 -0.201630  \n",
       "TIT   0.910297  0.908469 -0.706275 -0.213865  \n",
       "TAT  -0.682396 -0.706438  0.058353 -0.092791  \n",
       "TEY   1.000000  0.988778 -0.569813 -0.116127  \n",
       "CDP   0.988778  1.000000 -0.551027 -0.171256  \n",
       "CO   -0.569813 -0.551027  1.000000  0.340606  \n",
       "NOX  -0.116127 -0.171256  0.340606  1.000000  "
      ]
     },
     "execution_count": 22,
     "metadata": {},
     "output_type": "execute_result"
    }
   ],
   "source": [
    "#Checking data correlation with pearson method\n",
    "\n",
    "dfcorr = df.corr(method='pearson')\n",
    "pd.DataFrame(dfcorr)"
   ]
  },
  {
   "cell_type": "markdown",
   "metadata": {},
   "source": [
    "# _Data Visualization_"
   ]
  },
  {
   "cell_type": "markdown",
   "metadata": {},
   "source": [
    "## _Heat Map_"
   ]
  },
  {
   "cell_type": "code",
   "execution_count": 23,
   "metadata": {
    "scrolled": false
   },
   "outputs": [
    {
     "data": {
      "image/png": "[encoded data removed]",
      "text/plain": [
       "<Figure size 1440x1440 with 2 Axes>"
      ]
     },
     "metadata": {
      "needs_background": "light"
     },
     "output_type": "display_data"
    }
   ],
   "source": [
    "#Data correlation visualization\n",
    "\n",
    "top_corr_features = dfcorr.index\n",
    "plt.figure(figsize=(20,20))\n",
    "g=sns.heatmap(df[top_corr_features].corr(),annot=True,cmap=\"YlOrRd_r\")"
   ]
  },
  {
   "cell_type": "markdown",
   "metadata": {},
   "source": [
    "## _Histogram_"
   ]
  },
  {
   "cell_type": "code",
   "execution_count": 12,
   "metadata": {
    "scrolled": false
   },
   "outputs": [
    {
     "data": {
      "image/png": "[encoded data removed]",
      "text/plain": [
       "<Figure size 432x288 with 1 Axes>"
      ]
     },
     "metadata": {
      "needs_background": "light"
     },
     "output_type": "display_data"
    }
   ],
   "source": [
    "sns.histplot(data = df, x = \"AT\", bins = 25, kde = True, color = \"Red\",\n",
    "            stat = \"count\", common_norm=False)\n",
    "plt.show()"
   ]
  },
  {
   "cell_type": "code",
   "execution_count": 13,
   "metadata": {
    "scrolled": true
   },
   "outputs": [
    {
     "data": {
      "image/png": "[encoded data removed]",
      "text/plain": [
       "<Figure size 432x288 with 1 Axes>"
      ]
     },
     "metadata": {
      "needs_background": "light"
     },
     "output_type": "display_data"
    }
   ],
   "source": [
    "sns.histplot(data = df, x = \"TIT\", bins = 25, kde = True, color = \"Purple\",\n",
    "            stat = \"count\", common_norm=False)\n",
    "plt.show()"
   ]
  },
  {
   "cell_type": "markdown",
   "metadata": {},
   "source": [
    "# _Data Preparation_"
   ]
  },
  {
   "cell_type": "markdown",
   "metadata": {},
   "source": [
    "## Analisis _Feature Importance_"
   ]
  },
  {
   "cell_type": "code",
   "execution_count": 14,
   "metadata": {},
   "outputs": [],
   "source": [
    "X_all = df[['AT', 'AP', 'AH', 'AFDP', 'GTEP', 'TIT', 'TAT', 'TEY', 'CDP']]\n",
    "y_CO = df['CO']\n",
    "y_NOX = df['NOX']"
   ]
  },
  {
   "cell_type": "code",
   "execution_count": 15,
   "metadata": {},
   "outputs": [
    {
     "data": {
      "image/png": "[encoded data removed]",
      "text/plain": [
       "<Figure size 432x288 with 1 Axes>"
      ]
     },
     "metadata": {
      "needs_background": "light"
     },
     "output_type": "display_data"
    },
    {
     "name": "stdout",
     "output_type": "stream",
     "text": [
      "[0.0502483  0.03554195 0.03903192 0.05379437 0.03749535 0.50556437\n",
      " 0.21520686 0.03914161 0.02397528]\n"
     ]
    }
   ],
   "source": [
    "model = RandomForestRegressor()\n",
    "model.fit(X_all,y_CO)\n",
    "\n",
    "feat_importances = pd.Series(model.feature_importances_, index=X_all.columns)\n",
    "feat_importances.nlargest(10).plot(kind='barh',color='#54BEC7')\n",
    "plt.show()\n",
    "print(model.feature_importances_)"
   ]
  },
  {
   "cell_type": "code",
   "execution_count": 25,
   "metadata": {
    "scrolled": true
   },
   "outputs": [
    {
     "data": {
      "image/png": "[encoded data removed]",
      "text/plain": [
       "<Figure size 432x288 with 1 Axes>"
      ]
     },
     "metadata": {
      "needs_background": "light"
     },
     "output_type": "display_data"
    },
    {
     "name": "stdout",
     "output_type": "stream",
     "text": [
      "[0.38812235 0.03789995 0.0460825  0.077007   0.10430328 0.16713625\n",
      " 0.10355936 0.04397963 0.03190969]\n"
     ]
    }
   ],
   "source": [
    "model = RandomForestRegressor()\n",
    "model.fit(X_all,y_NOX)\n",
    "\n",
    "feat_importances = pd.Series(model.feature_importances_, index=X_all.columns)\n",
    "feat_importances.nlargest(10).plot(kind='barh', color='#54BEC7')\n",
    "plt.show()\n",
    "print(model.feature_importances_)"
   ]
  },
  {
   "cell_type": "markdown",
   "metadata": {},
   "source": [
    "## _Feature Select_"
   ]
  },
  {
   "cell_type": "code",
   "execution_count": 16,
   "metadata": {},
   "outputs": [],
   "source": [
    "X_NOx = df[['AT','TIT', 'GTEP', 'AFDP']]\n",
    "y_NOx = df[['NOX']]\n",
    "\n",
    "X_CO = df[['GTEP', 'TIT', 'TEY', 'CDP']]\n",
    "y_CO = df[['CO']]"
   ]
  },
  {
   "cell_type": "code",
   "execution_count": 17,
   "metadata": {},
   "outputs": [],
   "source": [
    "X_NOx_train, X_NOx_test, y_NOx_train, y_NOx_test = train_test_split(X_NOx, y_NOx, \n",
    "                                                                    test_size=0.2, \n",
    "                                                                    random_state=42)\n",
    "\n",
    "X_CO_train, X_CO_test, y_CO_train, y_CO_test = train_test_split(X_CO, y_CO, \n",
    "                                                                test_size=0.2, \n",
    "                                                                random_state=42)"
   ]
  },
  {
   "cell_type": "markdown",
   "metadata": {},
   "source": [
    "## _Standarization_"
   ]
  },
  {
   "cell_type": "code",
   "execution_count": 18,
   "metadata": {},
   "outputs": [
    {
     "name": "stdout",
     "output_type": "stream",
     "text": [
      "[[0.39612619 0.99400599 0.67846902 0.69210791]\n",
      " [0.63944    0.55944056 0.08515075 0.28444444]\n",
      " [0.61551996 0.55344655 0.14675471 0.23482396]\n",
      " ...\n",
      " [0.73243328 0.91408591 0.34681554 0.37353452]\n",
      " [0.31007114 0.83716284 0.26783387 0.34566072]\n",
      " [0.55329459 0.99100899 0.55799809 0.35301326]]\n",
      "====================\n",
      "[[0.35230041]\n",
      " [0.31313228]\n",
      " [0.27333652]\n",
      " ...\n",
      " [0.47249614]\n",
      " [0.56893782]\n",
      " [0.54876868]]\n"
     ]
    }
   ],
   "source": [
    "trans = MinMaxScaler()\n",
    "X_NOx_train = trans.fit_transform(X_NOx_train)\n",
    "y_NOx_train = trans.fit_transform(y_NOx_train)\n",
    "X_NOx_test = trans.fit_transform(X_NOx_test)\n",
    "y_NOx_test = trans.fit_transform(y_NOx_test)\n",
    "\n",
    "\n",
    "print(X_NOx_train)\n",
    "print('='*20)\n",
    "print(y_NOx_train)"
   ]
  },
  {
   "cell_type": "code",
   "execution_count": 19,
   "metadata": {},
   "outputs": [
    {
     "name": "stdout",
     "output_type": "stream",
     "text": [
      "[[0.67846902 0.99400599 0.77453447 0.81327254]\n",
      " [0.08515075 0.55944056 0.12116256 0.12741182]\n",
      " [0.14675471 0.55344655 0.16444389 0.18035876]\n",
      " ...\n",
      " [0.34681554 0.91408591 0.43709109 0.45244197]\n",
      " [0.26783387 0.83716284 0.4321842  0.38894332]\n",
      " [0.55799809 0.99100899 0.65312028 0.66347603]]\n",
      "====================\n",
      "[[0.00894113]\n",
      " [0.11676286]\n",
      " [0.09708775]\n",
      " ...\n",
      " [0.0374502 ]\n",
      " [0.01877324]\n",
      " [0.02113281]]\n"
     ]
    }
   ],
   "source": [
    "X_CO_train = trans.fit_transform(X_CO_train)\n",
    "y_CO_train = trans.fit_transform(y_CO_train)\n",
    "X_CO_test = trans.fit_transform(X_CO_test)\n",
    "y_CO_test = trans.fit_transform(y_CO_test)\n",
    "\n",
    "print(X_CO_train)\n",
    "print('='*20)\n",
    "print(y_CO_train)"
   ]
  },
  {
   "cell_type": "markdown",
   "metadata": {},
   "source": [
    "# _Data Modelling_"
   ]
  },
  {
   "cell_type": "markdown",
   "metadata": {},
   "source": [
    "### Prediksi Gas NOx"
   ]
  },
  {
   "cell_type": "code",
   "execution_count": 20,
   "metadata": {},
   "outputs": [
    {
     "name": "stdout",
     "output_type": "stream",
     "text": [
      "Train Mean Absolute Error =  0.06318769797030441\n",
      "Train Mean Squared Error =  0.0075885169402306165\n",
      "Train Root Mean Squared Error =  0.08711209411000642\n",
      "==================================================\n",
      "Test Mean Absolute Error =  0.10931038968255333\n",
      "Test Mean Squared Error =  0.017313551076043047\n",
      "Test Root Mean Squared Error =  0.13158096775766262\n"
     ]
    }
   ],
   "source": [
    "rf_NOx = RandomForestRegressor(n_estimators=100,max_features='auto', \n",
    "                               min_samples_split=2,\n",
    "                               max_depth=3,min_samples_leaf = 15)\n",
    "rf_NOx.fit(X_NOx_train,y_NOx_train.ravel())\n",
    "\n",
    "y_pred_NOx = rf_NOx.predict(X_NOx_train)\n",
    "mae_NOx = mean_absolute_error(y_NOx_train,y_pred_NOx)\n",
    "mse_NOx = mean_squared_error(y_NOx_train,y_pred_NOx)\n",
    "rmse_NOx = math.sqrt(mse_NOx)\n",
    "\n",
    "print(\"Train Mean Absolute Error = \", mae_NOx)\n",
    "print(\"Train Mean Squared Error = \", mse_NOx)\n",
    "print(\"Train Root Mean Squared Error = \", rmse_NOx)\n",
    "\n",
    "print('='*50)\n",
    "\n",
    "y_pred_test = rf_NOx.predict(X_NOx_test)\n",
    "mae_NOx_test = mean_absolute_error(y_NOx_test,y_pred_test)\n",
    "mse_NOx_test = mean_squared_error(y_NOx_test,y_pred_test)\n",
    "rmse_NOx_test = math.sqrt(mse_NOx_test)\n",
    "\n",
    "print(\"Test Mean Absolute Error = \", mae_NOx_test)\n",
    "print(\"Test Mean Squared Error = \", mse_NOx_test)\n",
    "print(\"Test Root Mean Squared Error = \", rmse_NOx_test)"
   ]
  },
  {
   "cell_type": "markdown",
   "metadata": {},
   "source": [
    "### Prediksi Gas CO"
   ]
  },
  {
   "cell_type": "code",
   "execution_count": 21,
   "metadata": {},
   "outputs": [
    {
     "name": "stdout",
     "output_type": "stream",
     "text": [
      "Train Mean Absolute Error =  0.016639773080237525\n",
      "Train Mean Squared Error =  0.0009561415856176246\n",
      "Train Root Mean Squared Error =  0.030921539185778328\n",
      "==================================================\n",
      "Test Mean Absolute Error =  0.01787828265413004\n",
      "Test Mean Squared Error =  0.0011450601675427404\n",
      "Test Root Mean Squared Error =  0.033838737676555555\n"
     ]
    }
   ],
   "source": [
    "rf_CO = RandomForestRegressor(n_estimators=100,max_features='auto', \n",
    "                              min_samples_split=2,\n",
    "                              max_depth=3,min_samples_leaf = 15)\n",
    "rf_CO.fit(X_CO_train,y_CO_train.ravel())\n",
    "\n",
    "y_pred_CO = rf_CO.predict(X_CO_train)\n",
    "mae_CO = mean_absolute_error(y_CO_train,y_pred_CO)\n",
    "mse_CO = mean_squared_error(y_CO_train,y_pred_CO)\n",
    "rmse_CO = math.sqrt(mse_CO)\n",
    "\n",
    "print(\"Train Mean Absolute Error = \", mae_CO)\n",
    "print(\"Train Mean Squared Error = \", mse_CO)\n",
    "print(\"Train Root Mean Squared Error = \", rmse_CO)\n",
    "\n",
    "print('='*50)\n",
    "\n",
    "y_pred_testCO = rf_CO.predict(X_CO_test)\n",
    "mae_CO_test = mean_absolute_error(y_CO_test,y_pred_testCO)\n",
    "mse_CO_test = mean_squared_error(y_CO_test,y_pred_testCO)\n",
    "rmse_CO_test = math.sqrt(mse_CO_test)\n",
    "\n",
    "print(\"Test Mean Absolute Error = \", mae_CO_test)\n",
    "print(\"Test Mean Squared Error = \", mse_CO_test)\n",
    "print(\"Test Root Mean Squared Error = \", rmse_CO_test)"
   ]
  },
  {
   "cell_type": "code",
   "execution_count": null,
   "metadata": {},
   "outputs": [],
   "source": []
  }
 ],
 "metadata": {
  "kernelspec": {
   "display_name": "Python 3 (ipykernel)",
   "language": "python",
   "name": "python3"
  },
  "language_info": {
   "codemirror_mode": {
    "name": "ipython",
    "version": 3
   },
   "file_extension": ".py",
   "mimetype": "text/x-python",
   "name": "python",
   "nbconvert_exporter": "python",
   "pygments_lexer": "ipython3",
   "version": "3.7.6"
  }
 },
 "nbformat": 4,
 "nbformat_minor": 2
}
